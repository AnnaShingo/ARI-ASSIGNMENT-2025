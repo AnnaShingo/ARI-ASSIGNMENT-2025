{
 "cells": [
  {
   "cell_type": "markdown",
   "id": "5e0304c6",
   "metadata": {},
   "source": [
    "# Maze Solver Notebook\n",
    " This notebook implements two informed search algorithms to solve mazes:\n",
    " - A* Search (optimal pathfinding)\n",
    " - Greedy Best-First Search (fast but not always optimal)\n",
    "   The visualization shows the exploration process and final path."
   ]
  },
  {
   "cell_type": "markdown",
   "id": "1c7f0022",
   "metadata": {},
   "source": [
    "## 1. Import Required Libraries"
   ]
  },
  {
   "cell_type": "code",
   "execution_count": 29,
   "id": "bcb30f42",
   "metadata": {},
   "outputs": [],
   "source": [
    "import numpy as np\n",
    "import matplotlib.pyplot as plt\n",
    "import heapq\n",
    "from typing import Tuple, List, Set, Optional\n",
    "from IPython.display import display, clear_output\n",
    "import time\n"
   ]
  },
  {
   "cell_type": "markdown",
   "id": "dc147de1",
   "metadata": {},
   "source": [
    "## 2. Node Class Definition\n",
    "Represents each position in the maze with:\n",
    "- State: (row, col) coordinates\n",
    "- Parent: Previous node\n",
    "- Action: Movement taken to reach this node\n",
    "- Cost: Path cost from start (g(n))\n",
    "- Heuristic: Estimated cost to goal (h(n))"
   ]
  },
  {
   "cell_type": "code",
   "execution_count": 30,
   "id": "8318858e",
   "metadata": {},
   "outputs": [],
   "source": [
    "class Node:\n",
    "    def __init__(self, state: Tuple[int, int], parent=None, action: Optional[str] = None, \n",
    "                 cost: int = 0, heuristic: int = 0):\n",
    "        self.state = state\n",
    "        self.parent = parent\n",
    "        self.action = action\n",
    "        self.cost = cost\n",
    "        self.heuristic = heuristic\n",
    "\n",
    "    def __lt__(self, other) -> bool:\n",
    "        return (self.cost + self.heuristic) < (other.cost + other.heuristic)"
   ]
  },
  {
   "cell_type": "markdown",
   "id": "d8c16bba",
   "metadata": {},
   "source": [
    "## 3. Maze Class Definition\n",
    "Handles maze parsing, solving, and visualization."
   ]
  },
  {
   "cell_type": "code",
   "execution_count": 31,
   "id": "b654d799",
   "metadata": {},
   "outputs": [],
   "source": [
    "class Maze:\n",
    "    def __init__(self, maze_str: str):\n",
    "        self.maze = [list(line) for line in maze_str.split('\\n') if line.strip()]\n",
    "        self.maze = np.array(self.maze)\n",
    "        self.height, self.width = self.maze.shape\n",
    "\n",
    "        # Find start (A) and goal (B) positions\n",
    "        self.start = None\n",
    "        self.goal = None\n",
    "        for i in range(self.height):\n",
    "            for j in range(self.width):\n",
    "                if self.maze[i, j] == 'A':\n",
    "                    self.start = (i, j)\n",
    "                elif self.maze[i, j] == 'B':\n",
    "                    self.goal = (i, j)\n",
    "\n",
    "        if self.start is None or self.goal is None:\n",
    "            raise ValueError(\"Maze must include start ('A') and goal ('B') points.\")\n",
    "\n",
    "    def neighbors(self, state: Tuple[int, int]) -> List[Tuple[str, Tuple[int, int]]]:\n",
    "        \"\"\"Returns all valid neighboring states without prioritization\"\"\"\n",
    "        i, j = state\n",
    "        directions = [\n",
    "            (\"right\", (i, j + 1)),\n",
    "            (\"down\", (i + 1, j)),\n",
    "            (\"left\", (i, j - 1)),\n",
    "            (\"up\", (i - 1, j))\n",
    "        ]\n",
    "        return [\n",
    "            (action, (ni, nj)) \n",
    "            for action, (ni, nj) in directions \n",
    "            if 0 <= ni < self.height and \n",
    "               0 <= nj < self.width and \n",
    "               self.maze[ni, nj] != '#'\n",
    "        ]\n",
    "\n",
    "    def heuristic(self, state: Tuple[int, int]) -> int:\n",
    "        \"\"\"Manhattan distance heuristic\"\"\"\n",
    "        return abs(state[0] - self.goal[0]) + abs(state[1] - self.goal[1])\n",
    "\n",
    "    def solve(self, algorithm: str = \"a*\", visualize: bool = False):\n",
    "        \"\"\"Solves the maze with visualization\"\"\"\n",
    "        if algorithm.lower() not in [\"a*\", \"greedy\"]:\n",
    "            raise ValueError(\"Algorithm must be either 'a*' or 'greedy'\")\n",
    "\n",
    "        start_node = Node(\n",
    "            state=self.start,\n",
    "            parent=None,\n",
    "            action=None,\n",
    "            cost=0,\n",
    "            heuristic=self.heuristic(self.start)\n",
    "        )\n",
    "        \n",
    "        frontier = []\n",
    "        heapq.heappush(frontier, start_node)\n",
    "        \n",
    "        visited = {self.start: 0}\n",
    "        all_visited = set([self.start])\n",
    "        \n",
    "        fig = None\n",
    "        if visualize:\n",
    "            plt.ion()\n",
    "            fig = plt.figure(figsize=(10, 10))\n",
    "            self._draw_maze()\n",
    "            plt.scatter(self.start[1], self.start[0], c='green', s=500, label='Start (A)')\n",
    "            plt.scatter(self.goal[1], self.goal[0], c='red', s=500, label='Goal (B)')\n",
    "            plt.legend(fontsize=12)\n",
    "            plt.show()\n",
    "\n",
    "        while frontier:\n",
    "            current_node = heapq.heappop(frontier)\n",
    "            \n",
    "            if current_node.state == self.goal:\n",
    "                # Reconstruct path\n",
    "                path = []\n",
    "                actions = []\n",
    "                node = current_node\n",
    "                while node.parent is not None:\n",
    "                    path.append(node.state)\n",
    "                    actions.append(node.action)\n",
    "                    node = node.parent\n",
    "                path.append(self.start)\n",
    "                path.reverse()\n",
    "                actions.reverse()\n",
    "                \n",
    "                if visualize:\n",
    "                    self._draw_path(path)\n",
    "                    plt.pause(3)\n",
    "                    plt.close()\n",
    "                return (path, actions), all_visited\n",
    "\n",
    "            for action, neighbor_state in self.neighbors(current_node.state):\n",
    "                new_cost = current_node.cost + 1\n",
    "                \n",
    "                if neighbor_state not in visited or new_cost < visited[neighbor_state]:\n",
    "                    visited[neighbor_state] = new_cost\n",
    "                    all_visited.add(neighbor_state)\n",
    "                    \n",
    "                    if algorithm.lower() == \"greedy\":\n",
    "                        priority = self.heuristic(neighbor_state)\n",
    "                    else:  # A*\n",
    "                        priority = new_cost + self.heuristic(neighbor_state)\n",
    "                    \n",
    "                    neighbor_node = Node(\n",
    "                        state=neighbor_state,\n",
    "                        parent=current_node,\n",
    "                        action=action,\n",
    "                        cost=new_cost,\n",
    "                        heuristic=self.heuristic(neighbor_state)\n",
    "                    )\n",
    "                    \n",
    "                    heapq.heappush(frontier, neighbor_node)\n",
    "                    \n",
    "                    if visualize:\n",
    "                        self._draw_visited(all_visited)\n",
    "                        plt.pause(0.05)\n",
    "                        clear_output(wait=True)\n",
    "                        display(fig)\n",
    "\n",
    "        if visualize:\n",
    "            plt.close()\n",
    "        raise ValueError(\"No path exists from start to goal\")\n",
    "\n",
    "    def _draw_maze(self):\n",
    "        \"\"\"Draws the maze walls\"\"\"\n",
    "        plt.imshow(np.where(self.maze == '#', 1, 0), cmap='binary')\n",
    "        plt.xticks([])\n",
    "        plt.yticks([])\n",
    "        plt.grid(True, which='both', color='gray', linestyle='-', linewidth=0.5)\n",
    "        plt.gca().set_xticks(np.arange(-0.5, self.width, 1), minor=True)\n",
    "        plt.gca().set_yticks(np.arange(-0.5, self.height, 1), minor=True)\n",
    "\n",
    "    def _draw_visited(self, visited: Set[Tuple[int, int]]):\n",
    "        \"\"\"Draws visited nodes\"\"\"\n",
    "        for i, j in visited:\n",
    "            if (i, j) != self.start and (i, j) != self.goal:\n",
    "                plt.scatter(j, i, c='lightblue', s=300, alpha=0.6, marker='s')\n",
    "\n",
    "    def _draw_path(self, path: List[Tuple[int, int]]):\n",
    "        \"\"\"Draws the solution path\"\"\"\n",
    "        xs = [j for i, j in path]\n",
    "        ys = [i for i, j in path]\n",
    "        plt.plot(xs, ys, c='blue', linewidth=4, zorder=3)\n",
    "        for i, j in path[1:-1]:  # Skip start and goal\n",
    "            plt.scatter(j, i, c='blue', s=300, marker='s', zorder=3)"
   ]
  },
  {
   "cell_type": "markdown",
   "id": "b967873f",
   "metadata": {},
   "source": [
    "# 4. Define the maze\n"
   ]
  },
  {
   "cell_type": "code",
   "execution_count": 32,
   "id": "8829ab0e",
   "metadata": {},
   "outputs": [],
   "source": [
    "maze_str = \"\"\"\n",
    "##########\n",
    "#A     # #\n",
    "# ### #  #\n",
    "# #   ## #\n",
    "# # #    #\n",
    "# ### ####\n",
    "#     #B #\n",
    "##########\n",
    "\"\"\".strip()\n"
   ]
  },
  {
   "cell_type": "markdown",
   "id": "17dd84fb",
   "metadata": {},
   "source": [
    "# 5.  Initialize and solve"
   ]
  },
  {
   "cell_type": "code",
   "execution_count": 33,
   "id": "29ecdd0d",
   "metadata": {},
   "outputs": [
    {
     "data": {
      "image/png": "[encoded data removed]",
      "text/plain": [
       "<Figure size 1000x1000 with 1 Axes>"
      ]
     },
     "metadata": {},
     "output_type": "display_data"
    },
    {
     "name": "stdout",
     "output_type": "stream",
     "text": [
      "Error: No path exists from start to goal\n"
     ]
    }
   ],
   "source": [
    "maze = Maze(maze_str)\n",
    "\n",
    "try:\n",
    "    # Solve with A* and visualize\n",
    "    print(\"Solving with A* algorithm:\")\n",
    "    (path, actions), visited = maze.solve(algorithm=\"a*\", visualize=True)\n",
    "    print(f\"Path found with {len(path)-1} steps\")\n",
    "    print(f\"Actions: {', '.join(actions)}\")\n",
    "    \n",
    "    # Solve with Greedy and visualize\n",
    "    print(\"\\nSolving with Greedy algorithm:\")\n",
    "    (greedy_path, greedy_actions), greedy_visited = maze.solve(algorithm=\"greedy\", visualize=True)\n",
    "    print(f\"Path found with {len(greedy_path)-1} steps\")\n",
    "    print(f\"Actions: {', '.join(greedy_actions)}\")\n",
    "    \n",
    "except ValueError as e:\n",
    "    print(f\"Error: {e}\")"
   ]
  },
  {
   "cell_type": "markdown",
   "id": "12b87c3a",
   "metadata": {},
   "source": [
    "# 6. Compare both algorithms\n"
   ]
  },
  {
   "cell_type": "code",
   "execution_count": 34,
   "id": "0d279dd8",
   "metadata": {},
   "outputs": [],
   "source": [
    "if 'path' in locals() and 'greedy_path' in locals():\n",
    "    print(\"\\nComparison:\")\n",
    "    print(f\"A* path length: {len(path)-1} steps\")\n",
    "    print(f\"Greedy path length: {len(greedy_path)-1} steps\")\n",
    "    print(f\"A* explored nodes: {len(visited)}\")\n",
    "    print(f\"Greedy explored nodes: {len(greedy_visited)}\")"
   ]
  }
 ],
 "metadata": {
  "kernelspec": {
   "display_name": "Python (Traffic Signs)",
   "language": "python",
   "name": "traffic-signs-env"
  },
  "language_info": {
   "codemirror_mode": {
    "name": "ipython",
    "version": 3
   },
   "file_extension": ".py",
   "mimetype": "text/x-python",
   "name": "python",
   "nbconvert_exporter": "python",
   "pygments_lexer": "ipython3",
   "version": "3.10.11"
  }
 },
 "nbformat": 4,
 "nbformat_minor": 5
}
